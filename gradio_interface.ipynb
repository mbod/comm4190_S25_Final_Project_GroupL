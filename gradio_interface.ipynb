{
 "cells": [
  {
   "cell_type": "markdown",
   "id": "c0f0ffe7-0c06-4656-8d10-4d71170c8f4b",
   "metadata": {},
   "source": [
    "# Gradio UI\n",
    "A simple Gradio UI where a database that holds the reciept json data is saved and queried on using a simple LLM chat UI."
   ]
  },
  {
   "cell_type": "code",
   "execution_count": 1,
   "id": "862a2796-3308-4bcb-a4d7-e9b4bf69543d",
   "metadata": {},
   "outputs": [
    {
     "data": {
      "text/plain": [
       "True"
      ]
     },
     "execution_count": 1,
     "metadata": {},
     "output_type": "execute_result"
    }
   ],
   "source": [
    "# setup\n",
    "\n",
    "import os\n",
    "import base64\n",
    "import json\n",
    "import time\n",
    "import re\n",
    "from dotenv import load_dotenv\n",
    "from openai import OpenAI\n",
    "import sqlite3\n",
    "\n",
    "load_dotenv()"
   ]
  },
  {
   "cell_type": "code",
   "execution_count": 2,
   "id": "8f4d52a4-2039-42d9-bca4-c6403f6040a5",
   "metadata": {},
   "outputs": [
    {
     "name": "stdout",
     "output_type": "stream",
     "text": [
      "Loaded 17 rows into pantry.db.\n"
     ]
    }
   ],
   "source": [
    "# 1. Path to JSON export from your main pipeline\n",
    "JSON_PATH = \"receipt_output.json\"\n",
    "\n",
    "# 2. Connect to (or create) a local SQLite database file\n",
    "DB_PATH = \"pantry.db\"\n",
    "conn = sqlite3.connect(DB_PATH)\n",
    "cursor = conn.cursor()\n",
    "\n",
    "# 3. Create a table for receipt items (drop if exists for fresh start)\n",
    "cursor.execute(\"\"\"\n",
    "DROP TABLE IF EXISTS items;\n",
    "\"\"\")\n",
    "cursor.execute(\"\"\"\n",
    "CREATE TABLE items (\n",
    "    id INTEGER PRIMARY KEY AUTOINCREMENT,\n",
    "    item TEXT NOT NULL,\n",
    "    quantity INTEGER NOT NULL,\n",
    "    expiration DATE,\n",
    "    category TEXT,\n",
    "    location TEXT,\n",
    "    cost REAL\n",
    ");\n",
    "\"\"\")\n",
    "conn.commit()\n",
    "\n",
    "# 4. Read JSON and bulk-insert into the database\n",
    "with open(JSON_PATH, \"r\", encoding=\"utf-8\") as f:\n",
    "    data = json.load(f)\n",
    "\n",
    "rows = [\n",
    "    (\n",
    "        d[\"item\"],\n",
    "        d.get(\"quantity\", 1),\n",
    "        None if d.get(\"expiration\") == \"N/A\" else d[\"expiration\"],\n",
    "        d.get(\"category\"),\n",
    "        d.get(\"location\"),\n",
    "        None if d.get(\"cost\") == \"N/A\" else d[\"cost\"],\n",
    "    )\n",
    "    for d in data\n",
    "]\n",
    "\n",
    "cursor.executemany(\"\"\"\n",
    "INSERT INTO items (item, quantity, expiration, category, location, cost)\n",
    "VALUES (?, ?, ?, ?, ?, ?);\n",
    "\"\"\", rows)\n",
    "conn.commit()\n",
    "\n",
    "print(f\"Loaded {len(rows)} rows into {DB_PATH}.\")"
   ]
  },
  {
   "cell_type": "code",
   "execution_count": 3,
   "id": "d7371802-72b2-421b-a07a-b6bf69833e69",
   "metadata": {},
   "outputs": [],
   "source": [
    "def query_pantry_db(sql_query: str) -> list:\n",
    "    \"\"\"Run a SQL query against the local SQLite DB and return rows as dicts.\"\"\"\n",
    "    conn = sqlite3.connect(DB_PATH)\n",
    "    conn.row_factory = sqlite3.Row\n",
    "    cur = conn.cursor()\n",
    "    cur.execute(sql_query)\n",
    "    results = [dict(row) for row in cur.fetchall()]\n",
    "    conn.close()\n",
    "    return results\n",
    "\n",
    "def ask_pantry(question: str) -> str:\n",
    "    # 1) Spin up the same OpenAI client you used elsewhere\n",
    "    client = OpenAI(api_key=os.getenv(\"OPENAI_API_KEY\"))\n",
    "\n",
    "    # 2) Pull in your pantry rows\n",
    "    items = query_pantry_db(\"SELECT * FROM items;\")\n",
    "\n",
    "    # 3) Build the prompt\n",
    "    prompt = (\n",
    "        \"You are an expert kitchen assistant with access to my pantry database.\\n\"\n",
    "        \"Here is the current data:\\n\"\n",
    "        f\"{json.dumps(items, indent=2)}\\n\\n\"\n",
    "        f\"User question: {question}\\n\"\n",
    "        \"Answer concisely based on the data above.\"\n",
    "    )\n",
    "\n",
    "    # 4) Call the same chat API surface you used before\n",
    "    chat = client.chat.completions.create(\n",
    "        model=\"gpt-4o-mini\",\n",
    "        temperature=0.0,\n",
    "        max_tokens=300,\n",
    "        messages=[{\"role\": \"user\", \"content\": prompt}]\n",
    "    )\n",
    "\n",
    "    # 5) Return the assistant’s text\n",
    "    return chat.choices[0].message.content.strip()\n"
   ]
  },
  {
   "cell_type": "code",
   "execution_count": 4,
   "id": "0e9c81ee-f22e-43a9-8c7f-9f860f7e4e73",
   "metadata": {},
   "outputs": [
    {
     "name": "stdout",
     "output_type": "stream",
     "text": [
      "* Running on local URL:  http://0.0.0.0:7861\n",
      "* Running on public URL: https://e7e5568587cf392d62.gradio.live\n",
      "\n",
      "This share link expires in 72 hours. For free permanent hosting and GPU upgrades, run `gradio deploy` from the terminal in the working directory to deploy to Hugging Face Spaces (https://huggingface.co/spaces)\n"
     ]
    },
    {
     "data": {
      "text/html": [
       "<div><iframe src=\"https://e7e5568587cf392d62.gradio.live\" width=\"100%\" height=\"500\" allow=\"autoplay; camera; microphone; clipboard-read; clipboard-write;\" frameborder=\"0\" allowfullscreen></iframe></div>"
      ],
      "text/plain": [
       "<IPython.core.display.HTML object>"
      ]
     },
     "metadata": {},
     "output_type": "display_data"
    }
   ],
   "source": [
    "# Cell #3: simple Gradio app to ask questions of your digital pantry\n",
    "import gradio as gr\n",
    "\n",
    "def gradio_interface(user_question):\n",
    "    return ask_pantry(user_question)\n",
    "\n",
    "css = \"\"\"\n",
    "/* optional: center content */\n",
    ".gradio-container { max-width: 800px; margin: auto; }\n",
    "\"\"\"\n",
    "\n",
    "app = gr.Interface(\n",
    "    fn=gradio_interface,\n",
    "    inputs=gr.Textbox(lines=2, placeholder=\"What do I have in my pantry?\"),\n",
    "    outputs=\"text\",\n",
    "    title=\"🍎 Pang: Digital Pantry Assistant\",\n",
    "    description=\"Ask questions like 'What fruit do I have?' or 'List items expiring soon.'\",\n",
    "    css=css,\n",
    ")\n",
    "\n",
    "if __name__ == \"__main__\":\n",
    "    # bind to 0.0.0.0 so your browser (and cloud IDE) can see it,\n",
    "    # and create a public link in case localhost is blocked.\n",
    "    app.launch(\n",
    "        server_name=\"0.0.0.0\",\n",
    "        server_port=7861,\n",
    "        share=True,       # <-- spins up a public URL\n",
    "        inbrowser=True    # <-- tries to auto-open in your default browser\n",
    "    )\n"
   ]
  }
 ],
 "metadata": {
  "kernelspec": {
   "display_name": "Python 3-12 (COMM4190)",
   "language": "python",
   "name": "python3-12_comm4190"
  },
  "language_info": {
   "codemirror_mode": {
    "name": "ipython",
    "version": 3
   },
   "file_extension": ".py",
   "mimetype": "text/x-python",
   "name": "python",
   "nbconvert_exporter": "python",
   "pygments_lexer": "ipython3",
   "version": "3.12.8"
  }
 },
 "nbformat": 4,
 "nbformat_minor": 5
}
